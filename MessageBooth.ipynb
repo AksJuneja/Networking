{
  "nbformat": 4,
  "nbformat_minor": 0,
  "metadata": {
    "colab": {
      "name": "MessageBooth.ipynb",
      "provenance": [],
      "collapsed_sections": []
    },
    "kernelspec": {
      "name": "python3",
      "display_name": "Python 3"
    },
    "language_info": {
      "name": "python"
    }
  },
  "cells": [
    {
      "cell_type": "code",
      "metadata": {
        "colab": {
          "base_uri": "https://localhost:8080/"
        },
        "id": "yaKQFj7Pi64j",
        "outputId": "3750faa1-0cff-4dca-f056-c10c68697f0e"
      },
      "source": [
        "pip install cryptography"
      ],
      "execution_count": null,
      "outputs": [
        {
          "output_type": "stream",
          "text": [
            "Collecting cryptography\n",
            "\u001b[?25l  Downloading https://files.pythonhosted.org/packages/b2/26/7af637e6a7e87258b963f1731c5982fb31cd507f0d90d91836e446955d02/cryptography-3.4.7-cp36-abi3-manylinux2014_x86_64.whl (3.2MB)\n",
            "\u001b[K     |████████████████████████████████| 3.2MB 8.8MB/s \n",
            "\u001b[?25hRequirement already satisfied: cffi>=1.12 in /usr/local/lib/python3.7/dist-packages (from cryptography) (1.14.5)\n",
            "Requirement already satisfied: pycparser in /usr/local/lib/python3.7/dist-packages (from cffi>=1.12->cryptography) (2.20)\n",
            "Installing collected packages: cryptography\n",
            "Successfully installed cryptography-3.4.7\n"
          ],
          "name": "stdout"
        }
      ]
    },
    {
      "cell_type": "code",
      "metadata": {
        "colab": {
          "base_uri": "https://localhost:8080/"
        },
        "id": "E1FuksLQjIRt",
        "outputId": "4ad69bd3-3b2a-44a7-eb9f-7c954035b12d"
      },
      "source": [
        "from collections import deque\n",
        "from cryptography.fernet import Fernet\n",
        "\n",
        " \n",
        "class Graph:\n",
        "    def __init__(self, connections, n):\n",
        " \n",
        "        self.adjList = [[] for _ in range(n)]\n",
        "        for (src, dest) in connections:\n",
        "            self.adjList[src].append(dest)\n",
        " \n",
        " \n",
        "def isThereAnyPath(g, src, dest, discovered, path):\n",
        "    \n",
        "    discovered[src] = True\n",
        " \n",
        "    path.append(src)\n",
        " \n",
        "    if src == dest:\n",
        "        return True\n",
        " \n",
        "    for i in g.adjList[src]:\n",
        "        if not discovered[i]:\n",
        "            if isThereAnyPath(g, i, dest, discovered, path):\n",
        "                return True\n",
        " \n",
        "    path.pop()\n",
        " \n",
        "    return False\n",
        " \n",
        " \n",
        "\n",
        "connections = [\n",
        "        (0, 3), (1, 0), (1, 2), (1, 4), (2, 7), (3, 4),\n",
        "        (3, 5), (4, 3), (4, 6), (5, 6), (6, 7)\n",
        "    ]\n",
        " \n",
        "\n",
        "n = 8\n",
        " \n",
        "    \n",
        "g = Graph(connections, n)\n",
        " \n",
        "discovered = [False] * n\n",
        " \n",
        "path = deque()\n",
        "\n",
        "print(\"The network cities in the current model have their specific code digits:\")\n",
        "print(\"0->Ambala \\n1->Chandigarh \\n2->Shimla \\n3->Delhi \\n4->Lucknow \\n5->Jaipur \\n6->Mumbai \\n7->Bangalore\")\n",
        "\n",
        "src=int(input(\"Enter the code digit of the current city (city you need to send your message from)=\"))\n",
        "dest=int(input(\"Enter the code digit of the destination city (city you need to send your message to)=\"))\n",
        "\n",
        "if isThereAnyPath(g, src, dest, discovered, path):\n",
        "    print(\"Path exists from network city\", src, \"to network city\", dest)\n",
        "    print(\"The complete path is\", list(path))\n",
        "else:\n",
        "    print(\"No path exists between vertices\", src, \"and\", dest)\n",
        "\n"
      ],
      "execution_count": null,
      "outputs": [
        {
          "output_type": "stream",
          "text": [
            "The network cities in the current model have their specific code digits:\n",
            "0->Ambala \n",
            "1->Chandigarh \n",
            "2->Shimla \n",
            "3->Delhi \n",
            "4->Lucknow \n",
            "5->Jaipur \n",
            "6->Mumbai \n",
            "7->Bangalore\n",
            "Enter the code digit of the current city (city you need to send your message from)=0\n",
            "Enter the code digit of the destination city (city you need to send your message to)=5\n",
            "Path exists from network city 0 to network city 5\n",
            "The complete path is [0, 3, 5]\n"
          ],
          "name": "stdout"
        }
      ]
    },
    {
      "cell_type": "code",
      "metadata": {
        "id": "vsldxjyXDTiD",
        "colab": {
          "base_uri": "https://localhost:8080/"
        },
        "outputId": "f977053d-5a3c-4471-f7d7-e954c47bc429"
      },
      "source": [
        "message=input(\"Please enter the message to be sent=\")\n",
        "secret_key = Fernet.generate_key()\n",
        "fernet = Fernet(secret_key)\n",
        "encryptedMessage = fernet.encrypt(message.encode())\n",
        "  \n",
        "print(\"original message: \", message)\n",
        "print(\"encrypted message: \", encryptedMessage)\n",
        "\n",
        "decryptedMessage = fernet.decrypt(encryptedMessage).decode()\n",
        "  \n",
        "print(\"decrypted string: \", decryptedMessage)\n",
        "     \n"
      ],
      "execution_count": null,
      "outputs": [
        {
          "output_type": "stream",
          "text": [
            "Please enter the message to be sent=Hello, there!!\n",
            "original message:  Hello, there!!\n",
            "encrypted message:  b'gAAAAABgmNCVvpr3sH8syesYw4wudn_uHrRzqBfzbMjEzSTHlThWDkhDZAerdjYZxoT90_PGlhS7057VvwhpQTJa-sR5GJvggQ=='\n",
            "decrypted string:  Hello, there!!\n"
          ],
          "name": "stdout"
        }
      ]
    },
    {
      "cell_type": "code",
      "metadata": {
        "id": "kIUsPLnZDXQK",
        "colab": {
          "base_uri": "https://localhost:8080/"
        },
        "outputId": "9d861546-f3cf-4371-871b-b2ecd1178515"
      },
      "source": [
        "key = Fernet.generate_key()\n",
        "fer = Fernet(key)\n",
        "msg=\"Received, Thanks!\"\n",
        "enc = fer.encrypt(msg.encode())\n",
        "dec = fer.decrypt(enc).decode()\n",
        "print(dec)"
      ],
      "execution_count": null,
      "outputs": [
        {
          "output_type": "stream",
          "text": [
            "Received, Thanks!\n"
          ],
          "name": "stdout"
        }
      ]
    }
  ]
}